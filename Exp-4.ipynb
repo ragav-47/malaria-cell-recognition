{
  "cells": [
    {
      "cell_type": "code",
      "execution_count": 1,
      "metadata": {
        "id": "syz3mNuDI0ou"
      },
      "outputs": [],
      "source": [
        "import os\n",
        "import pandas as pd\n",
        "import numpy as np\n",
        "import seaborn as sns\n",
        "import matplotlib.pyplot as plt\n",
        "from matplotlib.image import imread\n",
        "from tensorflow.keras.preprocessing.image import ImageDataGenerator,load_img\n",
        "from tensorflow import keras\n",
        "from tensorflow.keras import layers\n",
        "from tensorflow.keras.layers import Conv2D,MaxPool2D,AvgPool2D,Dense\n",
        "from tensorflow.keras import utils\n",
        "from tensorflow.keras.models import Sequential\n",
        "from sklearn.metrics import classification_report,confusion_matrix\n",
        "import tensorflow as tf"
      ]
    },
    {
      "cell_type": "code",
      "execution_count": 2,
      "metadata": {},
      "outputs": [
        {
          "name": "stdout",
          "output_type": "stream",
          "text": [
            ": /physical_device:CPU:0\n",
            ": /physical_device:GPU:0\n"
          ]
        }
      ],
      "source": [
        "for device in tf.config.list_physical_devices():\n",
        "    print(\": {}\".format(device.name))"
      ]
    },
    {
      "cell_type": "code",
      "execution_count": 3,
      "metadata": {},
      "outputs": [],
      "source": [
        "phy_dev=tf.config.list_physical_devices('GPU')"
      ]
    },
    {
      "cell_type": "code",
      "execution_count": 4,
      "metadata": {},
      "outputs": [
        {
          "name": "stdout",
          "output_type": "stream",
          "text": [
            "Num GPUs Available:  1\n"
          ]
        }
      ],
      "source": [
        "print(\"Num GPUs Available: \", len(phy_dev))"
      ]
    },
    {
      "cell_type": "code",
      "execution_count": 5,
      "metadata": {},
      "outputs": [],
      "source": [
        "tf.config.experimental.set_memory_growth(phy_dev[0],True)"
      ]
    },
    {
      "cell_type": "code",
      "execution_count": 6,
      "metadata": {
        "id": "_OmeV5DgIx-S"
      },
      "outputs": [],
      "source": [
        "my_data_dir = 'C:\\\\Users\\\\ragav\\\\Desktop\\\\dl\\\\EXP_4\\\\cell_images'"
      ]
    },
    {
      "cell_type": "code",
      "execution_count": 7,
      "metadata": {
        "colab": {
          "base_uri": "https://localhost:8080/"
        },
        "id": "m5qZ9-G_JMGg",
        "outputId": "68656759-2bcc-4185-9664-8e274a675fc4"
      },
      "outputs": [
        {
          "data": {
            "text/plain": [
              "['test', 'train']"
            ]
          },
          "execution_count": 7,
          "metadata": {},
          "output_type": "execute_result"
        }
      ],
      "source": [
        "os.listdir(my_data_dir)"
      ]
    },
    {
      "cell_type": "code",
      "execution_count": 8,
      "metadata": {
        "id": "1Uz07Iu8JoP2"
      },
      "outputs": [],
      "source": [
        "test_path = my_data_dir+'/test/'\n",
        "train_path = my_data_dir+'/train/'"
      ]
    },
    {
      "cell_type": "code",
      "execution_count": 9,
      "metadata": {
        "id": "1hqgVXKpI5ll"
      },
      "outputs": [],
      "source": [
        "train_image_gen = ImageDataGenerator(rotation_range=20, # rotate the image 20 degrees\n",
        "                               rescale=1./255, # Rescale the image by normalzing it.\n",
        "                               zoom_range=0.1, # Zoom in by 10% max\n",
        "                               horizontal_flip=True, # Allo horizontal flipping\n",
        "                              )"
      ]
    },
    {
      "cell_type": "code",
      "execution_count": 10,
      "metadata": {
        "id": "_tnik6MfI946"
      },
      "outputs": [],
      "source": [
        "test_image_gen = ImageDataGenerator(rotation_range=20, # rotate the image 20 degrees\n",
        "                               rescale=1./255, # Rescale the image by normalzing it.\n",
        "                               zoom_range=0.1, # Zoom in by 10% max\n",
        "                               horizontal_flip=True, # Allo horizontal flipping\n",
        "                              )"
      ]
    },
    {
      "cell_type": "code",
      "execution_count": 11,
      "metadata": {
        "colab": {
          "base_uri": "https://localhost:8080/"
        },
        "id": "cgeG9mMAJBAY",
        "outputId": "20695013-5406-4c9a-d3d0-73db13d14a6d"
      },
      "outputs": [
        {
          "name": "stdout",
          "output_type": "stream",
          "text": [
            "Found 24958 images belonging to 2 classes.\n"
          ]
        }
      ],
      "source": [
        "train= train_image_gen.flow_from_directory(train_path,target_size=(150,150),class_mode='binary',batch_size=16)"
      ]
    },
    {
      "cell_type": "code",
      "execution_count": 12,
      "metadata": {
        "colab": {
          "base_uri": "https://localhost:8080/"
        },
        "id": "u9-VPIWNJvqo",
        "outputId": "f8b74c93-fff0-4d33-fbd5-fecf669d26d0"
      },
      "outputs": [
        {
          "name": "stdout",
          "output_type": "stream",
          "text": [
            "Found 2600 images belonging to 2 classes.\n"
          ]
        }
      ],
      "source": [
        "test=test_image_gen.flow_from_directory(test_path,class_mode = 'binary',target_size=(150,150),batch_size=16)"
      ]
    },
    {
      "cell_type": "code",
      "execution_count": 13,
      "metadata": {
        "id": "EeENedOSJ9Zb"
      },
      "outputs": [],
      "source": [
        "model=Sequential([\n",
        "    Conv2D(32,3,activation=\"relu\",padding=\"same\"),\n",
        "    AvgPool2D((2,2)),\n",
        "    Conv2D(64,3,activation=\"relu\"),\n",
        "    AvgPool2D((2,2)),\n",
        "    Conv2D(64,3,activation=\"relu\"),\n",
        "    AvgPool2D((2,2)),\n",
        "    layers.Flatten(),\n",
        "    Dense(128,activation=\"relu\"),\n",
        "    Dense(1,activation=\"sigmoid\")\n",
        "])"
      ]
    },
    {
      "cell_type": "code",
      "execution_count": 14,
      "metadata": {
        "id": "AGe3DSa9K5_P"
      },
      "outputs": [],
      "source": [
        "model.compile(loss=\"binary_crossentropy\",optimizer=\"adam\",metrics=\"accuracy\")\n"
      ]
    },
    {
      "cell_type": "code",
      "execution_count": 15,
      "metadata": {
        "colab": {
          "base_uri": "https://localhost:8080/"
        },
        "id": "cAQ80s65K7x-",
        "outputId": "75857abd-b824-44c8-dc00-7347aa4ef49f"
      },
      "outputs": [
        {
          "name": "stdout",
          "output_type": "stream",
          "text": [
            "Epoch 1/5\n",
            "1560/1560 [==============================] - 229s 144ms/step - loss: 0.6378 - accuracy: 0.6164 - val_loss: 0.3720 - val_accuracy: 0.8850\n",
            "Epoch 2/5\n",
            "1560/1560 [==============================] - 205s 131ms/step - loss: 0.2085 - accuracy: 0.9290 - val_loss: 0.1762 - val_accuracy: 0.9346\n",
            "Epoch 3/5\n",
            "1560/1560 [==============================] - 186s 119ms/step - loss: 0.1549 - accuracy: 0.9509 - val_loss: 0.1549 - val_accuracy: 0.9473\n",
            "Epoch 4/5\n",
            "1560/1560 [==============================] - 138s 88ms/step - loss: 0.1404 - accuracy: 0.9568 - val_loss: 0.1779 - val_accuracy: 0.9435\n",
            "Epoch 5/5\n",
            "1560/1560 [==============================] - 153s 98ms/step - loss: 0.1346 - accuracy: 0.9580 - val_loss: 0.1389 - val_accuracy: 0.9519\n"
          ]
        },
        {
          "data": {
            "text/plain": [
              "<keras.callbacks.History at 0x24861265f60>"
            ]
          },
          "execution_count": 15,
          "metadata": {},
          "output_type": "execute_result"
        }
      ],
      "source": [
        "model.fit(train,epochs=5,validation_data=test)"
      ]
    },
    {
      "cell_type": "code",
      "execution_count": 16,
      "metadata": {},
      "outputs": [
        {
          "data": {
            "text/plain": [
              "<AxesSubplot: >"
            ]
          },
          "execution_count": 16,
          "metadata": {},
          "output_type": "execute_result"
        },
        {
          "data": {
            "image/png": "[encoded data removed]",
            "text/plain": [
              "<Figure size 640x480 with 1 Axes>"
            ]
          },
          "metadata": {},
          "output_type": "display_data"
        }
      ],
      "source": [
        "pd.DataFrame(model.history.history).plot()"
      ]
    },
    {
      "cell_type": "code",
      "execution_count": 17,
      "metadata": {},
      "outputs": [
        {
          "name": "stdout",
          "output_type": "stream",
          "text": [
            "163/163 [==============================] - 16s 100ms/step - loss: 0.1374 - accuracy: 0.9515\n"
          ]
        },
        {
          "data": {
            "text/plain": [
              "[0.1374376267194748, 0.9515384435653687]"
            ]
          },
          "execution_count": 17,
          "metadata": {},
          "output_type": "execute_result"
        }
      ],
      "source": [
        "model.evaluate(test)"
      ]
    },
    {
      "cell_type": "code",
      "execution_count": 18,
      "metadata": {},
      "outputs": [
        {
          "name": "stdout",
          "output_type": "stream",
          "text": [
            "163/163 [==============================] - 18s 112ms/step\n"
          ]
        }
      ],
      "source": [
        "pred_probabilities = model.predict(test)"
      ]
    },
    {
      "cell_type": "code",
      "execution_count": 25,
      "metadata": {},
      "outputs": [
        {
          "name": "stdout",
          "output_type": "stream",
          "text": [
            "              precision    recall  f1-score   support\n",
            "\n",
            "           0       0.50      0.50      0.50      1300\n",
            "           1       0.50      0.51      0.51      1300\n",
            "\n",
            "    accuracy                           0.50      2600\n",
            "   macro avg       0.50      0.50      0.50      2600\n",
            "weighted avg       0.50      0.50      0.50      2600\n",
            "\n"
          ]
        }
      ],
      "source": [
        "predictions = pred_probabilities > 0.5\n",
        "print(classification_report(test.classes,predictions))"
      ]
    },
    {
      "cell_type": "code",
      "execution_count": 26,
      "metadata": {},
      "outputs": [
        {
          "data": {
            "text/plain": [
              "array([[648, 652],\n",
              "       [638, 662]], dtype=int64)"
            ]
          },
          "execution_count": 26,
          "metadata": {},
          "output_type": "execute_result"
        }
      ],
      "source": [
        "confusion_matrix(test.classes,predictions)"
      ]
    },
    {
      "cell_type": "code",
      "execution_count": null,
      "metadata": {},
      "outputs": [],
      "source": []
    }
  ],
  "metadata": {
    "accelerator": "GPU",
    "colab": {
      "provenance": []
    },
    "kernelspec": {
      "display_name": "Python 3.10.5 64-bit",
      "language": "python",
      "name": "python3"
    },
    "language_info": {
      "codemirror_mode": {
        "name": "ipython",
        "version": 3
      },
      "file_extension": ".py",
      "mimetype": "text/x-python",
      "name": "python",
      "nbconvert_exporter": "python",
      "pygments_lexer": "ipython3",
      "version": "3.10.5"
    },
    "vscode": {
      "interpreter": {
        "hash": "422fde66010521008d0be76fe9d1eb3bf196c4a23f0b2c05b9ae549e1c79a296"
      }
    }
  },
  "nbformat": 4,
  "nbformat_minor": 0
}
